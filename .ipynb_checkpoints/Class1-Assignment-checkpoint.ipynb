{
 "cells": [
  {
   "cell_type": "markdown",
   "id": "956c4f46-b723-4488-9e0c-7ef4f1c05873",
   "metadata": {},
   "source": [
    "\n",
    "Assignment I:\n",
    "Print Statements\n",
    "\n",
    "    Write a Python program to print \"Hello, World!\".\n",
    "    Print your name using a print statement.\n",
    "    Print the result of the following math operation: 5 + 7.\n",
    "\n",
    "Numbers\n",
    "\n",
    "    Assign the number 10 to a variable called a, and print it.\n",
    "    Perform the multiplication of 7 and 8, store the result in a variable called product, and print product.\n",
    "    Write a Python program to calculate the area of a rectangle with length 5 and width 3, and print the result.\n",
    "\n",
    "Strings\n",
    "\n",
    "    Assign the string \"Python\" to a variable called language and print it.\n",
    "    Concatenate two strings \"Hello\" and \"World\" with a space in between, and print the result.\n",
    "    Write a Python program to print the length of the string \"OpenAI\".\n",
    "\n",
    "Lists\n",
    "\n",
    "    Create a list with the numbers 1, 2, 3, 4, 5, and print the list.\n",
    "    Access and print the third element in the list [10, 20, 30, 40, 50].\n",
    "    Add the number 6 to the list [1, 2, 3, 4, 5], and print the updated list.\n",
    "    Remove the number 3 from the list [1, 2, 3, 4, 5], and print the updated list.\n",
    "    Write a Python program to find and print the sum of all numbers in the list [4, 8, 15, 16, 23, 42].\n",
    "    Create a list with any 3 string elements of your choice and print the list.\n",
    "\n"
   ]
  },
  {
   "cell_type": "code",
   "execution_count": 2,
   "id": "dffcb51e-f53b-453d-8f1b-3587f990a8e8",
   "metadata": {},
   "outputs": [
    {
     "name": "stdout",
     "output_type": "stream",
     "text": [
      "Hello, World!\n"
     ]
    }
   ],
   "source": [
    "#    Write a Python program to print \"Hello, World!\".\n",
    "print(\"Hello, World!\")"
   ]
  },
  {
   "cell_type": "code",
   "execution_count": 4,
   "id": "0ce107a9-38df-42f9-b61a-ec5f4450eae7",
   "metadata": {},
   "outputs": [
    {
     "name": "stdout",
     "output_type": "stream",
     "text": [
      "Raj Kumar Nepal\n"
     ]
    }
   ],
   "source": [
    "#    Print your name using a print statement.\n",
    "print(\"Raj Kumar Nepal\")"
   ]
  },
  {
   "cell_type": "code",
   "execution_count": 6,
   "id": "d0cb2636-8f3e-4d69-ab35-d98e8d33d30a",
   "metadata": {},
   "outputs": [
    {
     "name": "stdout",
     "output_type": "stream",
     "text": [
      "Addition of 5 & 7 is: 12\n"
     ]
    }
   ],
   "source": [
    "#    Print the result oprint(\"Addition of 5 & 7 is:\",5+7)f the following math operation: 5 + 7.\n",
    "print(\"Addition of 5 & 7 is:\",5+7)"
   ]
  },
  {
   "cell_type": "code",
   "execution_count": 8,
   "id": "b42e229a-ac72-4019-8ac2-a0ba14eb83f1",
   "metadata": {},
   "outputs": [
    {
     "name": "stdout",
     "output_type": "stream",
     "text": [
      "The value of a is 10\n"
     ]
    }
   ],
   "source": [
    "#    Assign the number 10 to a variable called a, and print it.\n",
    "a = 10\n",
    "print(\"The value of a is\",a)"
   ]
  },
  {
   "cell_type": "code",
   "execution_count": 14,
   "id": "53cf53c9-0207-4d9b-8468-7cb9c3c55c32",
   "metadata": {},
   "outputs": [
    {
     "name": "stdout",
     "output_type": "stream",
     "text": [
      "The product of 7 and 8 is 56.\n"
     ]
    }
   ],
   "source": [
    "#    Perform the multiplication of 7 and 8, store the result in a variable called product, and print product.\n",
    "x = 7\n",
    "y = 8\n",
    "product = x*y\n",
    "print(f\"The product of {x} and {y} is {product}.\")"
   ]
  },
  {
   "cell_type": "code",
   "execution_count": 18,
   "id": "14946373-4e91-4b3d-8836-f4f9b98a2cf9",
   "metadata": {},
   "outputs": [
    {
     "name": "stdout",
     "output_type": "stream",
     "text": [
      "The area of rectangle with length 5 and width 3 is 15.\n"
     ]
    }
   ],
   "source": [
    "#    Write a Python program to calculate the area of a rectangle with length 5 and width 3, and print the result.\n",
    "l = 5\n",
    "b = 3\n",
    "area = l*b\n",
    "print(f\"The area of rectangle with length {l} and width {b} is {area}.\")"
   ]
  },
  {
   "cell_type": "code",
   "execution_count": 22,
   "id": "e70f5e82-e7ec-4908-a233-8351fdcf7f98",
   "metadata": {},
   "outputs": [
    {
     "name": "stdout",
     "output_type": "stream",
     "text": [
      "We are learning new language called Python\n"
     ]
    }
   ],
   "source": [
    "#    Assign the string \"Python\" to a variable called language and print it.\n",
    "language = \"Python\"\n",
    "print(\"We are learning new language called\",language)"
   ]
  },
  {
   "cell_type": "code",
   "execution_count": 24,
   "id": "4834cfc3-311d-4f0d-8a3a-0dc1d68c357c",
   "metadata": {},
   "outputs": [
    {
     "name": "stdout",
     "output_type": "stream",
     "text": [
      "Hello World\n"
     ]
    }
   ],
   "source": [
    "#    Concatenate two strings \"Hello\" and \"World\" with a space in between, and print the result.\n",
    "first = \"Hello\"\n",
    "second = \"World\"\n",
    "print(first + \" \" + second)"
   ]
  },
  {
   "cell_type": "code",
   "execution_count": 30,
   "id": "2854f6cf-22c3-4aed-a42b-d8ba68ba0c5d",
   "metadata": {},
   "outputs": [
    {
     "name": "stdout",
     "output_type": "stream",
     "text": [
      "The length of word is 6\n"
     ]
    }
   ],
   "source": [
    "#    Write a Python program to print the length of the string \"OpenAI\".\n",
    "word = \"OpenAI\"\n",
    "print(\"The length of word is\",len(word))"
   ]
  },
  {
   "cell_type": "code",
   "execution_count": 34,
   "id": "b446a39f-c621-4086-a345-f93bd8e5a82c",
   "metadata": {},
   "outputs": [
    {
     "name": "stdout",
     "output_type": "stream",
     "text": [
      "The list of numbers are [1, 2, 3, 4, 5]\n"
     ]
    }
   ],
   "source": [
    "#    Create a list with the numbers 1, 2, 3, 4, 5, and print the list.\n",
    "numbers = [1,2,3,4,5]\n",
    "print(\"The list of numbers are\",numbers)"
   ]
  },
  {
   "cell_type": "code",
   "execution_count": 38,
   "id": "c3a0a74c-5376-4f55-b04e-992ed28e390f",
   "metadata": {},
   "outputs": [
    {
     "name": "stdout",
     "output_type": "stream",
     "text": [
      "The third element of the numbers is 30\n"
     ]
    }
   ],
   "source": [
    "#    Access and print the third element in the list [10, 20, 30, 40, 50].\n",
    "num = [10,20,30,40,50]\n",
    "print(\"The third element of the numbers is\",num[2])"
   ]
  },
  {
   "cell_type": "code",
   "execution_count": 46,
   "id": "c1ee2684-d133-4358-86c2-ce0b5c06cd7c",
   "metadata": {},
   "outputs": [
    {
     "name": "stdout",
     "output_type": "stream",
     "text": [
      "[1, 2, 3, 4, 5, 6]\n"
     ]
    }
   ],
   "source": [
    "#    Add the number 6 to the list [1, 2, 3, 4, 5], and print the updated list.\n",
    "n = [1,2,3,4,5]\n",
    "n.append(6)\n",
    "print(n)"
   ]
  },
  {
   "cell_type": "code",
   "execution_count": 48,
   "id": "c3abbfcd-1ce1-4405-8ad6-92deac916fb6",
   "metadata": {},
   "outputs": [
    {
     "name": "stdout",
     "output_type": "stream",
     "text": [
      "[1, 2, 4, 5]\n"
     ]
    }
   ],
   "source": [
    "#    Remove the number 3 from the list [1, 2, 3, 4, 5], and print the updated list.\n",
    "my_list = [1,2,3,4,5]\n",
    "my_list.remove(3)\n",
    "print(my_list)"
   ]
  },
  {
   "cell_type": "code",
   "execution_count": 52,
   "id": "9059d3b4-efc1-4db4-9440-6ee53b3498b8",
   "metadata": {},
   "outputs": [
    {
     "name": "stdout",
     "output_type": "stream",
     "text": [
      "The sum of all numbers in the list is: 108\n"
     ]
    }
   ],
   "source": [
    "#    Write a Python program to find and print the sum of all numbers in the list [4, 8, 15, 16, 23, 42].\n",
    "list = [4,8,15,16,23,42]\n",
    "sum = 0\n",
    "for num in list:\n",
    "    sum = sum + num\n",
    "print(\"The sum of all numbers in the list is:\", sum)"
   ]
  },
  {
   "cell_type": "code",
   "execution_count": 58,
   "id": "000f9a6d-b2fe-4469-a529-543ada18f6dd",
   "metadata": {},
   "outputs": [
    {
     "name": "stdout",
     "output_type": "stream",
     "text": [
      "['Hello World!', 'Learning Python!', 'Easier Highe Level Language!']\n"
     ]
    }
   ],
   "source": [
    "#    Create a list with any 3 string elements of your choice and print the list.\n",
    "s_list = [\"Hello World!\",\"Learning Python!\",\"Easier Highe Level Language!\"]\n",
    "print(s_list)"
   ]
  },
  {
   "cell_type": "code",
   "execution_count": null,
   "id": "95f290e7-aefc-4123-bed5-041ba1bd444b",
   "metadata": {},
   "outputs": [],
   "source": []
  }
 ],
 "metadata": {
  "kernelspec": {
   "display_name": "Python 3 (ipykernel)",
   "language": "python",
   "name": "python3"
  },
  "language_info": {
   "codemirror_mode": {
    "name": "ipython",
    "version": 3
   },
   "file_extension": ".py",
   "mimetype": "text/x-python",
   "name": "python",
   "nbconvert_exporter": "python",
   "pygments_lexer": "ipython3",
   "version": "3.12.4"
  }
 },
 "nbformat": 4,
 "nbformat_minor": 5
}
