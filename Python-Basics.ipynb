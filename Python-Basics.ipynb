{
 "cells": [
  {
   "cell_type": "markdown",
   "id": "dc9c10ea-df86-446a-b11a-f8f9894a2ced",
   "metadata": {},
   "source": [
    "## Learning Python Basics"
   ]
  },
  {
   "cell_type": "markdown",
   "id": "4dd76e8e-6128-4723-a5fd-0c6ed79c56b0",
   "metadata": {},
   "source": [
    "**1. Print Statements**"
   ]
  },
  {
   "cell_type": "code",
   "execution_count": 9,
   "id": "1ad7d04a-45c1-42e5-9103-578116a58653",
   "metadata": {},
   "outputs": [
    {
     "name": "stdout",
     "output_type": "stream",
     "text": [
      "Hello World!\n"
     ]
    }
   ],
   "source": [
    "print(\"Hello World!\")"
   ]
  },
  {
   "cell_type": "code",
   "execution_count": 33,
   "id": "39a13a4c-3c63-477c-8358-7a98752d2e1d",
   "metadata": {},
   "outputs": [
    {
     "name": "stdout",
     "output_type": "stream",
     "text": [
      "Logged in user: Raj Kumar Nepal\n"
     ]
    }
   ],
   "source": [
    "#Variables and Printing\n",
    "name = \"Raj Kumar Nepal\"\n",
    "print(f\"Logged in user: {name}\")"
   ]
  },
  {
   "cell_type": "code",
   "execution_count": 35,
   "id": "b84399cf-2079-4d20-9ce1-177bf9c16f47",
   "metadata": {},
   "outputs": [
    {
     "name": "stdout",
     "output_type": "stream",
     "text": [
      "The password of wifi for Admin user is London12#3 \n"
     ]
    }
   ],
   "source": [
    "#Printing Statement Formats\n",
    "username = \"Admin\"\n",
    "password = \"London12#3\"\n",
    "\n",
    "print(\"The password of wifi for {} user is {} \".format(username, password))"
   ]
  },
  {
   "cell_type": "code",
   "execution_count": 28,
   "id": "ace6fee4-11da-4d69-99b8-bf55a9648a12",
   "metadata": {},
   "outputs": [
    {
     "name": "stdout",
     "output_type": "stream",
     "text": [
      "Raj Kumar Nepal is 27 years old.\n"
     ]
    }
   ],
   "source": [
    "#Using Contatenation Method\n",
    "age = 27\n",
    "name = \"Raj Kumar Nepal\"\n",
    "print(name + \" is \" +str(age) + \" years old.\")"
   ]
  },
  {
   "cell_type": "code",
   "execution_count": 31,
   "id": "c8464d28-846b-4cb6-99e4-f09075a66ee0",
   "metadata": {},
   "outputs": [
    {
     "name": "stdout",
     "output_type": "stream",
     "text": [
      "Sushant is 25 years old.\n"
     ]
    }
   ],
   "source": [
    "#Using older string formatting method\n",
    "name = \"Sushant\"\n",
    "age = 25\n",
    "print(\"%s is %d years old.\"%(name,age))"
   ]
  },
  {
   "cell_type": "code",
   "execution_count": 39,
   "id": "d18c13cb-0f59-4512-877d-2704bce1f953",
   "metadata": {},
   "outputs": [
    {
     "name": "stdin",
     "output_type": "stream",
     "text": [
      "Enter your username:  ismt-csdf\n"
     ]
    },
    {
     "name": "stdout",
     "output_type": "stream",
     "text": [
      "Your username is ismt-csdf\n"
     ]
    }
   ],
   "source": [
    "username = input(\"Enter your username: \")\n",
    "print(f\"Your username is {username}\")"
   ]
  },
  {
   "cell_type": "code",
   "execution_count": 45,
   "id": "ec600a01-0630-405e-a21b-893cf19826cc",
   "metadata": {},
   "outputs": [
    {
     "name": "stdin",
     "output_type": "stream",
     "text": [
      "Enter the password:  SecurePass@123#3\n"
     ]
    },
    {
     "name": "stdout",
     "output_type": "stream",
     "text": [
      "Password Matched. Access Granted\n"
     ]
    }
   ],
   "source": [
    "#Conditional Statements: Simple Password Checker\n",
    "correct_password = \"SecurePass@123#3\"\n",
    "user_pass = input(\"Enter the password: \")\n",
    "\n",
    "if user_pass == correct_password:\n",
    "    print(\"Password Matched. Access Granted\")\n",
    "else:\n",
    "    print(\"Access Denied\")"
   ]
  },
  {
   "cell_type": "markdown",
   "id": "73f17be2-4edf-4eb7-b7bc-18822404d578",
   "metadata": {},
   "source": [
    "**2. Data Types**\n",
    "- What are Data Types?\n",
    "  - They determine the type of values variables can hold and specify the operations that can be performed on those values. For instance, Python has several built-in data types, including numeric types (int, float, complex), string (str), boolean (bool), and collection types (list, tuple, dict, set)."
   ]
  },
  {
   "cell_type": "markdown",
   "id": "d211a9a8-1657-4197-87bc-f385f8eeda9a",
   "metadata": {},
   "source": [
    "**2.1 Working with Numbers**"
   ]
  },
  {
   "cell_type": "code",
   "execution_count": 73,
   "id": "9fc89970-40cd-4771-aa60-b19b47fb5b15",
   "metadata": {},
   "outputs": [
    {
     "name": "stdout",
     "output_type": "stream",
     "text": [
      "The Addition of 10 and 5 is: 15\n",
      "The Substraction of 10 and 5 is: 5\n",
      "The Division of 10 and 5 is: 2.0\n",
      "The Multiplication of 10 and 5 is: 50\n",
      "The Remainder of 10/5 is: 0\n"
     ]
    }
   ],
   "source": [
    "x = 10\n",
    "y = 5\n",
    "\n",
    "print(f\"The Addition of {x} and {y} is: {x+y}\")\n",
    "print(f\"The Substraction of {x} and {y} is: {x-y}\")\n",
    "print(f\"The Division of {x} and {y} is: {x/y}\")\n",
    "print(f\"The Multiplication of {x} and {y} is: {x*y}\")\n",
    "print(f\"The Remainder of {x}/{y} is: {x%y}\")\n",
    "\n"
   ]
  },
  {
   "cell_type": "markdown",
   "id": "ce30dd44-878b-45d5-bef6-5c53ebdc45cf",
   "metadata": {},
   "source": [
    "**2.2 Working with Strings**"
   ]
  },
  {
   "cell_type": "code",
   "execution_count": 90,
   "id": "2cc007ce-bf02-4043-9cfd-b0df6ee2bc0b",
   "metadata": {},
   "outputs": [
    {
     "name": "stdout",
     "output_type": "stream",
     "text": [
      "Single quoted string is:  Python is Awesome for Data Science and AI.\n"
     ]
    }
   ],
   "source": [
    "#Single Quoted String\n",
    "\n",
    "single_quoted_string = 'Python is Awesome for Data Science and AI.'\n",
    "print(\"Single quoted string is: \", single_quoted_string)\n"
   ]
  },
  {
   "cell_type": "code",
   "execution_count": 82,
   "id": "8806379a-75f1-470a-ac7b-4c5596487a2d",
   "metadata": {},
   "outputs": [
    {
     "name": "stdout",
     "output_type": "stream",
     "text": [
      "Double Quoted String:  I am Learning Python Basics!!\n"
     ]
    }
   ],
   "source": [
    "#Double Quoted Strings\n",
    "double_quoted = \"I am Learning Python Basics!!\"\n",
    "print(\"Double Quoted String: \", double_quoted)"
   ]
  },
  {
   "cell_type": "code",
   "execution_count": 94,
   "id": "ef1c2aaf-39bd-480a-9d04-62962228bab9",
   "metadata": {},
   "outputs": [
    {
     "name": "stdout",
     "output_type": "stream",
     "text": [
      "Concatenated Strings:  Python is Awesome for Data Science and AI. I am Learning Python Basics!!\n"
     ]
    }
   ],
   "source": [
    "#String Concatenation\n",
    "concatenated_string = single_quoted_string +' '+ double_quoted\n",
    "print(\"Concatenated Strings: \", concatenated_string)"
   ]
  },
  {
   "cell_type": "code",
   "execution_count": 100,
   "id": "6ec3e1d7-bfcc-40eb-a2aa-22ecffc3113d",
   "metadata": {},
   "outputs": [
    {
     "name": "stdout",
     "output_type": "stream",
     "text": [
      "Upper Case:  AWESOME PROGRAMMING LANGUAGE\n",
      "Lower Case:  awesome programming language\n"
     ]
    }
   ],
   "source": [
    "#String Manipulation Methods\n",
    "strings = \"Awesome Programming Language\"\n",
    "upper = strings.upper()\n",
    "lower = upper.lower()\n",
    "print(\"Upper Case: \", upper)\n",
    "print(\"Lower Case: \", lower)\n"
   ]
  },
  {
   "cell_type": "code",
   "execution_count": 112,
   "id": "22ef8f0a-5d2f-46b4-b8f4-af9b671d3362",
   "metadata": {},
   "outputs": [
    {
     "name": "stdout",
     "output_type": "stream",
     "text": [
      "Sliced Words is : Sunderland\n"
     ]
    }
   ],
   "source": [
    "#String Slings Examples\n",
    "words = \"University of Sunderland\"\n",
    "slice_word = words[14:24]\n",
    "print(\"Sliced Words is :\", slice_word)\n"
   ]
  },
  {
   "cell_type": "code",
   "execution_count": 122,
   "id": "123ab828-1289-4c33-b716-72fcf7c265c8",
   "metadata": {},
   "outputs": [
    {
     "name": "stdout",
     "output_type": "stream",
     "text": [
      "With Spaces:     University of Sunderland\n",
      "Space Removed: University of Sunderland\n"
     ]
    }
   ],
   "source": [
    "#Removing leading and Trailing Spaces\n",
    "words_with_spaced = \"   University of Sunderland\"\n",
    "print(\"With Spaces: \", words_with_spaced)\n",
    "\n",
    "cleaned = words_with_spaced.strip()\n",
    "print(\"Space Removed:\", cleaned)"
   ]
  },
  {
   "cell_type": "markdown",
   "id": "de84da54-c5bd-440b-a350-98effbccb28c",
   "metadata": {},
   "source": [
    "**2.3 Working with Lists**"
   ]
  },
  {
   "cell_type": "code",
   "execution_count": 125,
   "id": "9d19c464-cf8a-466a-b10e-d8492d30b669",
   "metadata": {},
   "outputs": [
    {
     "name": "stdout",
     "output_type": "stream",
     "text": [
      "Common Ports: [80, 443, 22, 21, 3306, 5432]\n"
     ]
    }
   ],
   "source": [
    "#Lists: Store and print a list of common ports\n",
    "common_ports = [80, 443, 22, 21, 3306, 5432]\n",
    "print(\"Common Ports:\",common_ports)\n"
   ]
  },
  {
   "cell_type": "code",
   "execution_count": 131,
   "id": "19369cdc-6b1a-46a4-aebe-a139d7085a31",
   "metadata": {},
   "outputs": [
    {
     "name": "stdout",
     "output_type": "stream",
     "text": [
      "Common Ports: 80\n",
      "Common Ports: 443\n",
      "Common Ports: 22\n",
      "Common Ports: 21\n",
      "Common Ports: 3306\n",
      "Common Ports: 5432\n"
     ]
    }
   ],
   "source": [
    "#Printing Using Loops from above List\n",
    "for port in common_ports:\n",
    "\n",
    "    print(\"Common Ports:\", port)"
   ]
  },
  {
   "cell_type": "code",
   "execution_count": 139,
   "id": "2d47b825-0abc-4ad1-a6b8-ceb9650f0ec4",
   "metadata": {},
   "outputs": [
    {
     "name": "stdout",
     "output_type": "stream",
     "text": [
      "The OS List:  ['Kali', 'Ubuntu', 'Mac', 'Windows', 'RedHat', 'Fedora', 'Parrot', 'Oracle']\n",
      "My Favoutire OS is: Kali\n"
     ]
    }
   ],
   "source": [
    "#String Lists\n",
    "os_list = [\"Kali\",\"Ubuntu\",\"Mac\",\"Windows\",\"RedHat\",\"Fedora\",\"Parrot\",\"Oracle\"]\n",
    "print(\"The OS List: \", os_list)\n",
    "\n",
    "#List Indexing\n",
    "print(\"My Favoutire OS is:\", os_list[0])"
   ]
  },
  {
   "cell_type": "code",
   "execution_count": 141,
   "id": "0383bf45-7ba5-4601-b0b5-31591b8beaaf",
   "metadata": {},
   "outputs": [
    {
     "name": "stdout",
     "output_type": "stream",
     "text": [
      "The length of word list is: 8\n"
     ]
    }
   ],
   "source": [
    "#Checking the length of list\n",
    "print(\"The length of word list is:\", len(os_list))"
   ]
  },
  {
   "cell_type": "code",
   "execution_count": 145,
   "id": "107e61b4-bb72-4ff1-a795-cf797a892d7f",
   "metadata": {},
   "outputs": [
    {
     "name": "stdout",
     "output_type": "stream",
     "text": [
      "The type of datatype is: <class 'list'>\n"
     ]
    }
   ],
   "source": [
    "#Checking the data types\n",
    "print(\"The type of datatype is:\",type(os_list))"
   ]
  },
  {
   "cell_type": "code",
   "execution_count": 159,
   "id": "c8a29445-490f-4f0b-b65a-1c12a0fc9ed8",
   "metadata": {},
   "outputs": [
    {
     "name": "stdout",
     "output_type": "stream",
     "text": [
      "Updated word list: Kali, Linux\n"
     ]
    }
   ],
   "source": [
    "#Replacing a OS in word list\n",
    "\n",
    "new_os_list = \"Kali, Linux\"\n",
    "updated_os_list = new_os_list.replace(\"Windows\", \"Arch\")\n",
    "print(\"Updated word list:\", updated_os_list)"
   ]
  }
 ],
 "metadata": {
  "kernelspec": {
   "display_name": "Python 3 (ipykernel)",
   "language": "python",
   "name": "python3"
  },
  "language_info": {
   "codemirror_mode": {
    "name": "ipython",
    "version": 3
   },
   "file_extension": ".py",
   "mimetype": "text/x-python",
   "name": "python",
   "nbconvert_exporter": "python",
   "pygments_lexer": "ipython3",
   "version": "3.12.4"
  }
 },
 "nbformat": 4,
 "nbformat_minor": 5
}
